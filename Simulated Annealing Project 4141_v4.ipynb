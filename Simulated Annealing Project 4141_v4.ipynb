{
 "cells": [
  {
   "cell_type": "code",
   "execution_count": 4,
   "metadata": {},
   "outputs": [],
   "source": [
    "import numpy as np\n",
    "import random as rnd"
   ]
  },
  {
   "cell_type": "code",
   "execution_count": 5,
   "metadata": {},
   "outputs": [],
   "source": [
    "# Goldstein and Price function\n",
    "def gp(x1,x2):\n",
    "\tif (x1 > abs(2) or x2 > abs(2)):\n",
    "\t\tprint(\"domain out of range\")\n",
    "\t\treturn\n",
    "\tt1 = pow(x1 + x2 + 1, 2)\n",
    "\tt2 = 19 - 14*x1  + 3*pow(x1,2) -14*x2 + 6*x1*x2  +3*pow(x2,2)\n",
    "\tt3 = pow(2*x1 - 3*x2, 2)\n",
    "\tt4 = 18 - 32*x1 + 12*pow(x1,2) + 48*x2 -36*x1*x2 +27*pow(x2,2)\n",
    "\tm1 = 1 + t1*t2\n",
    "\tm2 = 30 + t3*t4\n",
    "\treturn m1*m2"
   ]
  },
  {
   "cell_type": "code",
   "execution_count": 6,
   "metadata": {},
   "outputs": [],
   "source": [
    "def delta_fxy(f, x, y):\n",
    "\tx1 = x[0]\n",
    "\tx2 = x[1]\n",
    "\ty1 = y[0]\n",
    "\ty2 = y[1]\n",
    "\tmethod_x = f + \"(\" + str(x1) + \",\" + str(x2) + \")\"\n",
    "\tmethod_y = f + \"(\" + str(y1) + \",\" + str(y2) + \")\"\n",
    "\tval = eval(method_y) - eval(method_x)\n",
    "\treturn val"
   ]
  },
  {
   "cell_type": "code",
   "execution_count": 7,
   "metadata": {},
   "outputs": [],
   "source": [
    "def delta_positive(trials):\n",
    "\tnum = 0\n",
    "\ts = 0.0\n",
    "\tfor i in range(trials):\n",
    "\t\tx1 = rnd.uniform(-2,2)\n",
    "\t\tx2 = rnd.uniform(-2,2)\n",
    "\t\ty1 = rnd.uniform(-2,2)\n",
    "\t\ty2 = rnd.uniform(-2,2)\n",
    "\t\tX = (x1,x2)\n",
    "\t\tY = (y1,y2)\n",
    "\t\n",
    "\t\tfunction = \"gp\"\n",
    "\t\td = delta_fxy(function, X, Y)\n",
    "\t\tif d > 0:\n",
    "\t\t\tnum += 1\n",
    "\t\t\ts += d\n",
    "\treturn (num, s/num)"
   ]
  },
  {
   "cell_type": "code",
   "execution_count": null,
   "metadata": {},
   "outputs": [],
   "source": [
    "def f_s_bar()"
   ]
  },
  {
   "cell_type": "code",
   "execution_count": 8,
   "metadata": {},
   "outputs": [],
   "source": [
    "def compute_initial_c(dfplusbar, chi0, M1, M2):\n",
    "\tdenom = M2*chi0 + (1-chi0)*M1\n",
    "\treturn 1/np.log(M2/denom)*dfplusbar"
   ]
  },
  {
   "cell_type": "code",
   "execution_count": null,
   "metadata": {},
   "outputs": [],
   "source": [
    "#trying out\n",
    "m0 = 1000\n",
    "m1 = delta_positive(m0)[0]\n",
    "m2 = m0 - m1\n",
    "delta_f_plus = delta_positive(m0)[1]\n",
    "chi_0 = 0.98 # idk how to get\n",
    "compute_initial_c(delta_f_plus, chi_0, m1, m2)"
   ]
  },
  {
   "cell_type": "code",
   "execution_count": 9,
   "metadata": {},
   "outputs": [],
   "source": [
    "# Using Alternative B\n",
    "def gxy(x, t):\n",
    "\tw = rnd.uniform(0,1)\n",
    "\tif (w > t):\n",
    "\t\treturn LS(x)\n",
    "\telse:\n",
    "\t\treturn 1/m(S) # says Lebesgue measure but what's that?"
   ]
  },
  {
   "cell_type": "code",
   "execution_count": 2,
   "metadata": {},
   "outputs": [],
   "source": [
    "def get_alpha_star(x):\n",
    "\tZ = -gradient(x)/norm(x)\n",
    "\tg1 = f(x)\n",
    "\tg2 = f(x+0.5*Z)\n",
    "\tg3 = f(x+Z)\n",
    "\th1 = (g2-g1)/0.5\n",
    "\th2 = (g3-g2)/0.5\n",
    "\th3 = (h2-h1)/0.5\n",
    "\talpha_star = 0.5*(0.5-h1/h3)\n",
    "\treturn alpha_star"
   ]
  },
  {
   "cell_type": "code",
   "execution_count": 1,
   "metadata": {},
   "outputs": [],
   "source": [
    "def gradient(x):\n",
    "\tx1, x2 = x\n",
    "\td1 = partial_g1(x1,x2)\n",
    "\td2 = partial_g2(x1,x2)\n",
    "\treturn (d1, d2)"
   ]
  },
  {
   "cell_type": "code",
   "execution_count": null,
   "metadata": {},
   "outputs": [],
   "source": []
  },
  {
   "cell_type": "code",
   "execution_count": null,
   "metadata": {},
   "outputs": [],
   "source": [
    "# local search - steepest descent\n",
    "def LS(x, tol):\n",
    "\tK = 100\n",
    "\tfor i range(1,K):\n",
    "\t\tZ = -gradient(x)/norm(x)\n",
    "\t\talpha_star = get_alpha_star(x)\n",
    "\t\txx = x+alpha_star*Z\n",
    "\t\tif (abs(xx-x) < tol):\n",
    "\t\t\treturn xx\n",
    "\t\tx = xx"
   ]
  },
  {
   "cell_type": "code",
   "execution_count": 12,
   "metadata": {},
   "outputs": [],
   "source": [
    "def norm(x):\n",
    "\ts = 0\n",
    "\tfor item in range(len(x)):\n",
    "\t\ts += item*item\n",
    "\treturn np.sqrt(s)"
   ]
  },
  {
   "cell_type": "code",
   "execution_count": 1,
   "metadata": {},
   "outputs": [],
   "source": [
    "def back_diff(x):\n",
    "\th = 0.01\n",
    "\treturn f(x) - f(x-h)"
   ]
  },
  {
   "cell_type": "code",
   "execution_count": 13,
   "metadata": {},
   "outputs": [],
   "source": [
    "# length of Markov chain\n",
    "def get_L(n,L0):\n",
    "\treturn n*L0"
   ]
  },
  {
   "cell_type": "code",
   "execution_count": 14,
   "metadata": {},
   "outputs": [],
   "source": [
    "# get c0\n",
    "def get_c0(z, chi0):\n",
    "\treturn -z/np.log(chi0)"
   ]
  },
  {
   "cell_type": "code",
   "execution_count": 15,
   "metadata": {},
   "outputs": [],
   "source": [
    "# update or decrement c\n",
    "def dec_c(delta,c):\n",
    "\treturn c/(1 + c*np.log(1+delta)/(3*sigma(c)))"
   ]
  },
  {
   "cell_type": "markdown",
   "metadata": {},
   "source": [
    "### Simulated Annealing"
   ]
  },
  {
   "cell_type": "code",
   "execution_count": null,
   "metadata": {},
   "outputs": [],
   "source": [
    "def simulated_annealing(c_0, c_prime, stop_parameter, L):\n",
    "\tc = c_0\n",
    "\tx = (0,0) #not sure of the initial x\n",
    "\twhile | dot | >= stop_parameter:\n",
    "\t\tfor i in range(1,L):\n",
    "\t\t\ty = gen(x)\n",
    "\t\t\t# change f accordingly\n",
    "\t\t\tif f(y) - f(x) <= 0 :\n",
    "\t\t\t\taccept\n",
    "\t\t\telif np.exp(-(f(y) - f(x))/c) > rnd.random(0,1):\n",
    "\t\t\t\taccept\n",
    "\t\t\tif accept:\n",
    "\t\t\t\tx = y\n",
    "\t\tlower c #????"
   ]
  },
  {
   "cell_type": "code",
   "execution_count": null,
   "metadata": {},
   "outputs": [],
   "source": []
  }
 ],
 "metadata": {
  "kernelspec": {
   "display_name": "Python 3",
   "language": "python",
   "name": "python3"
  },
  "language_info": {
   "codemirror_mode": {
    "name": "ipython",
    "version": 3
   },
   "file_extension": ".py",
   "mimetype": "text/x-python",
   "name": "python",
   "nbconvert_exporter": "python",
   "pygments_lexer": "ipython3",
   "version": "3.7.4"
  }
 },
 "nbformat": 4,
 "nbformat_minor": 2
}
