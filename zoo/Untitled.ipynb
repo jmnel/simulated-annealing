{
 "cells": [
  {
   "cell_type": "code",
   "execution_count": 1,
   "metadata": {},
   "outputs": [
    {
     "name": "stdout",
     "output_type": "stream",
     "text": [
      "-Sum(1.0/(c[i] + Sum((-a[i, j] + x[j])**2, (j, 0, 3))), (i, 0, 3))\n"
     ]
    }
   ],
   "source": [
    "import shekel"
   ]
  },
  {
   "cell_type": "code",
   "execution_count": 5,
   "metadata": {},
   "outputs": [
    {
     "name": "stdout",
     "output_type": "stream",
     "text": [
      "-Sum(1.0/(c[i] + Sum((-a[i, j] + x[j])**2, (j, 0, 3))), (i, 0, 3))\n",
      "<shekel.Shekel object at 0x7f617c6b3ca0>\n"
     ]
    }
   ],
   "source": [
    "q = shekel.Shekel(m=5)\n",
    "print(q)"
   ]
  },
  {
   "cell_type": "code",
   "execution_count": 6,
   "metadata": {},
   "outputs": [
    {
     "name": "stdout",
     "output_type": "stream",
     "text": [
      "-Sum(1.0/(c[i] + Sum((-a[i, j] + x[j])**2, (j, 0, 3))), (i, 0, 3))\n"
     ]
    }
   ],
   "source": [
    "print(q.expr)"
   ]
  },
  {
   "cell_type": "code",
   "execution_count": 7,
   "metadata": {},
   "outputs": [
    {
     "data": {
      "image/png": "[encoded data removed]",
      "text/latex": [
       "$\\displaystyle - \\sum_{Idx\\left(i\\right)=0}^{3} \\frac{1.0}{{c}_{Idx\\left(i\\right)} + \\sum_{Idx\\left(j\\right)=0}^{3} \\left(- {a}_{Idx\\left(i\\right),Idx\\left(j\\right)} + {x}_{Idx\\left(j\\right)}\\right)^{2}}$"
      ],
      "text/plain": [
       "    3                                   \n",
       " _______                                \n",
       " ╲                                      \n",
       "  ╲                    1.0              \n",
       "   ╲     ───────────────────────────────\n",
       "    ╲             3                     \n",
       "     ╲           ___                    \n",
       "      ╲          ╲                      \n",
       "-     ╱           ╲                    2\n",
       "     ╱   c[i] +   ╱   (-a[i, j] + x[j]) \n",
       "    ╱            ╱                      \n",
       "   ╱             ‾‾‾                    \n",
       "  ╱             j = 0                   \n",
       " ╱                                      \n",
       " ‾‾‾‾‾‾‾                                \n",
       "  i = 0                                 "
      ]
     },
     "execution_count": 7,
     "metadata": {},
     "output_type": "execute_result"
    }
   ],
   "source": [
    "q.expr"
   ]
  },
  {
   "cell_type": "code",
   "execution_count": 8,
   "metadata": {},
   "outputs": [
    {
     "data": {
      "image/png": "[encoded data removed]",
      "text/latex": [
       "$\\displaystyle \\left[ {x}_{0}, \\  {x}_{1}, \\  {x}_{2}, \\  {x}_{3}\\right]$"
      ],
      "text/plain": [
       "[x[0], x[1], x[2], x[3]]"
      ]
     },
     "execution_count": 8,
     "metadata": {},
     "output_type": "execute_result"
    }
   ],
   "source": [
    "q.x"
   ]
  },
  {
   "cell_type": "code",
   "execution_count": null,
   "metadata": {},
   "outputs": [],
   "source": []
  }
 ],
 "metadata": {
  "kernelspec": {
   "display_name": "Python 3",
   "language": "python",
   "name": "python3"
  },
  "language_info": {
   "codemirror_mode": {
    "name": "ipython",
    "version": 3
   },
   "file_extension": ".py",
   "mimetype": "text/x-python",
   "name": "python",
   "nbconvert_exporter": "python",
   "pygments_lexer": "ipython3",
   "version": "3.8.5"
  }
 },
 "nbformat": 4,
 "nbformat_minor": 4
}
