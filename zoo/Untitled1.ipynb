{
 "cells": [
  {
   "cell_type": "code",
   "execution_count": 1,
   "metadata": {},
   "outputs": [
    {
     "data": {
      "image/png": "[encoded data removed]",
      "text/latex": [
       "$\\displaystyle \\left[ \\left[ 4.0, \\  4.0, \\  4.0, \\  4.0\\right], \\  \\left[ 1.0, \\  1.0, \\  1.0, \\  1.0\\right], \\  \\left[ 8.0, \\  8.0, \\  8.0, \\  8.0\\right], \\  \\left[ 6.0, \\  6.0, \\  6.0, \\  6.0\\right], \\  \\left[ 3.0, \\  7.0, \\  3.0, \\  7.0\\right]\\right]$"
      ],
      "text/plain": [
       "[[4.0, 4.0, 4.0, 4.0], [1.0, 1.0, 1.0, 1.0], [8.0, 8.0, 8.0, 8.0], [6.0, 6.0, \n",
       "6.0, 6.0], [3.0, 7.0, 3.0, 7.0]]"
      ]
     },
     "execution_count": 1,
     "metadata": {},
     "output_type": "execute_result"
    }
   ],
   "source": [
    "import shekel\n",
    "\n",
    "q = shekel.Shekel(m=5)\n",
    "\n",
    "q.xmin"
   ]
  },
  {
   "cell_type": "code",
   "execution_count": 2,
   "metadata": {},
   "outputs": [
    {
     "data": {
      "text/plain": [
       "[array([4., 4., 4., 4.]),\n",
       " array([1., 1., 1., 1.]),\n",
       " array([8., 8., 8., 8.]),\n",
       " array([6., 6., 6., 6.])]"
      ]
     },
     "execution_count": 2,
     "metadata": {},
     "output_type": "execute_result"
    }
   ],
   "source": [
    "q.xmin"
   ]
  },
  {
   "cell_type": "code",
   "execution_count": 2,
   "metadata": {},
   "outputs": [],
   "source": [
    "e = q.make_explicit()"
   ]
  },
  {
   "cell_type": "code",
   "execution_count": 4,
   "metadata": {},
   "outputs": [
    {
     "data": {
      "image/png": "[encoded data removed]",
      "text/latex": [
       "$\\displaystyle -10.104176243135901$"
      ],
      "text/plain": [
       "-10.104176243135901"
      ]
     },
     "execution_count": 4,
     "metadata": {},
     "output_type": "execute_result"
    }
   ],
   "source": [
    "e.f(e.xmin[0])"
   ]
  },
  {
   "cell_type": "code",
   "execution_count": 5,
   "metadata": {},
   "outputs": [
    {
     "data": {
      "image/png": "[encoded data removed]",
      "text/latex": [
       "$\\displaystyle 10.0$"
      ],
      "text/plain": [
       "10.0"
      ]
     },
     "execution_count": 5,
     "metadata": {},
     "output_type": "execute_result"
    }
   ],
   "source": [
    "1/0.1"
   ]
  },
  {
   "cell_type": "code",
   "execution_count": 6,
   "metadata": {},
   "outputs": [
    {
     "data": {
      "image/png": "[encoded data removed]",
      "text/latex": [
       "$\\displaystyle \\left[ 4.0, \\  4.0, \\  4.0, \\  4.0\\right]$"
      ],
      "text/plain": [
       "[4.0, 4.0, 4.0, 4.0]"
      ]
     },
     "execution_count": 6,
     "metadata": {},
     "output_type": "execute_result"
    }
   ],
   "source": [
    "e.xmin[0]"
   ]
  },
  {
   "cell_type": "code",
   "execution_count": 7,
   "metadata": {},
   "outputs": [
    {
     "ename": "AttributeError",
     "evalue": "'Shekel' object has no attribute 'c'",
     "output_type": "error",
     "traceback": [
      "\u001b[0;31m---------------------------------------------------------------------------\u001b[0m",
      "\u001b[0;31mAttributeError\u001b[0m                            Traceback (most recent call last)",
      "\u001b[0;32m<ipython-input-7-eb037d8f13ab>\u001b[0m in \u001b[0;36m<module>\u001b[0;34m\u001b[0m\n\u001b[0;32m----> 1\u001b[0;31m \u001b[0me\u001b[0m\u001b[0;34m.\u001b[0m\u001b[0mc\u001b[0m\u001b[0;34m[\u001b[0m\u001b[0;36m0\u001b[0m\u001b[0;34m]\u001b[0m\u001b[0;34m\u001b[0m\u001b[0;34m\u001b[0m\u001b[0m\n\u001b[0m",
      "\u001b[0;31mAttributeError\u001b[0m: 'Shekel' object has no attribute 'c'"
     ]
    }
   ],
   "source": [
    "e.c[0]"
   ]
  },
  {
   "cell_type": "code",
   "execution_count": 21,
   "metadata": {},
   "outputs": [
    {
     "data": {
      "image/png": "[encoded data removed]",
      "text/latex": [
       "$\\displaystyle -5.055195641291981$"
      ],
      "text/plain": [
       "-5.055195641291981"
      ]
     },
     "execution_count": 21,
     "metadata": {},
     "output_type": "execute_result"
    }
   ],
   "source": [
    "import numpy as np\n",
    "\n",
    "a = np.array([[4,4,4,4],\n",
    "             [1,1,1,1],\n",
    "             [8,8,8,8],\n",
    "             [6,6,6,6],\n",
    "             [3,7,3,7]])\n",
    "c = np.array([0.1, 0.2, 0.2, 0.4, 0.4])\n",
    "\n",
    "x = np.array(e.xmin[0])\n",
    "\n",
    "def f(x):\n",
    "    return -sum( [ (np.dot(x-a[i], x-a[i]) + c[i])**-1 for i in range(5) ])\n",
    "\n",
    "\n",
    "f(a[1])"
   ]
  },
  {
   "cell_type": "code",
   "execution_count": 22,
   "metadata": {},
   "outputs": [
    {
     "ename": "NameError",
     "evalue": "name 'Piecewise' is not defined",
     "output_type": "error",
     "traceback": [
      "\u001b[0;31m---------------------------------------------------------------------------\u001b[0m",
      "\u001b[0;31mNameError\u001b[0m                                 Traceback (most recent call last)",
      "\u001b[0;32m<ipython-input-22-9edca2c342c6>\u001b[0m in \u001b[0;36m<module>\u001b[0;34m\u001b[0m\n\u001b[0;32m----> 1\u001b[0;31m \u001b[0mPiecewise\u001b[0m\u001b[0;34m\u001b[0m\u001b[0;34m\u001b[0m\u001b[0m\n\u001b[0m",
      "\u001b[0;31mNameError\u001b[0m: name 'Piecewise' is not defined"
     ]
    }
   ],
   "source": [
    "Piecewise"
   ]
  },
  {
   "cell_type": "code",
   "execution_count": 23,
   "metadata": {},
   "outputs": [
    {
     "ename": "NameError",
     "evalue": "name 'Idx' is not defined",
     "output_type": "error",
     "traceback": [
      "\u001b[0;31m---------------------------------------------------------------------------\u001b[0m",
      "\u001b[0;31mNameError\u001b[0m                                 Traceback (most recent call last)",
      "\u001b[0;32m<ipython-input-23-0ef4e30ab64e>\u001b[0m in \u001b[0;36m<module>\u001b[0;34m\u001b[0m\n\u001b[0;32m----> 1\u001b[0;31m \u001b[0mIdx\u001b[0m\u001b[0;34m\u001b[0m\u001b[0;34m\u001b[0m\u001b[0m\n\u001b[0m",
      "\u001b[0;31mNameError\u001b[0m: name 'Idx' is not defined"
     ]
    }
   ],
   "source": [
    "Idx"
   ]
  },
  {
   "cell_type": "code",
   "execution_count": 24,
   "metadata": {},
   "outputs": [],
   "source": [
    "from sympy import *"
   ]
  },
  {
   "cell_type": "code",
   "execution_count": 41,
   "metadata": {},
   "outputs": [
    {
     "data": {
      "text/latex": [
       "$\\displaystyle \\begin{cases} 1 & \\text{for}\\: y \\leq 0 \\\\2 & \\text{otherwise} \\end{cases}$"
      ],
      "text/plain": [
       "⎧1  for y ≤ 0\n",
       "⎨            \n",
       "⎩2  otherwise"
      ]
     },
     "execution_count": 41,
     "metadata": {},
     "output_type": "execute_result"
    }
   ],
   "source": [
    "y = symbols('y')\n",
    "Piecewise(\n",
    "(1, And(LessThan(y,0),True)),\n",
    "    (2,True)\n",
    ")"
   ]
  },
  {
   "cell_type": "code",
   "execution_count": 56,
   "metadata": {},
   "outputs": [
    {
     "data": {
      "text/latex": [
       "$\\displaystyle \\begin{cases} k \\left(- a + {x}_{Idx\\left(i\\right)}\\right)^{m} & \\text{for}\\: a < {x}_{Idx\\left(i\\right)} \\\\0 & \\text{for}\\: a \\geq - {x}_{Idx\\left(i\\right)} \\end{cases}$"
      ],
      "text/plain": [
       "⎧             m               \n",
       "⎪k⋅(-a + x[i])   for a < x[i] \n",
       "⎨                             \n",
       "⎪      0         for a ≥ -x[i]\n",
       "⎩                             "
      ]
     },
     "execution_count": 56,
     "metadata": {},
     "output_type": "execute_result"
    }
   ],
   "source": [
    "a, k, m = symbols('a k m')\n",
    "\n",
    "x = IndexedBase('x')\n",
    "i = Idx('i')\n",
    "\n",
    "u = Piecewise(\n",
    "(k*(x[i]-a)**m, x[i] > a),\n",
    "(0, And( GreaterThan(x[i],-a), LessThan(x[i],a))\n",
    "))\n",
    "\n",
    "u"
   ]
  },
  {
   "cell_type": "code",
   "execution_count": 31,
   "metadata": {},
   "outputs": [
    {
     "data": {
      "image/png": "[encoded data removed]",
      "text/latex": [
       "$\\displaystyle x$"
      ],
      "text/plain": [
       "x"
      ]
     },
     "execution_count": 31,
     "metadata": {},
     "output_type": "execute_result"
    }
   ],
   "source": [
    "a"
   ]
  },
  {
   "cell_type": "code",
   "execution_count": null,
   "metadata": {},
   "outputs": [],
   "source": []
  }
 ],
 "metadata": {
  "kernelspec": {
   "display_name": "Python 3",
   "language": "python",
   "name": "python3"
  },
  "language_info": {
   "codemirror_mode": {
    "name": "ipython",
    "version": 3
   },
   "file_extension": ".py",
   "mimetype": "text/x-python",
   "name": "python",
   "nbconvert_exporter": "python",
   "pygments_lexer": "ipython3",
   "version": "3.8.5"
  }
 },
 "nbformat": 4,
 "nbformat_minor": 4
}
