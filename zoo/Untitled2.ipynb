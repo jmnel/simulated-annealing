{
 "cells": [
  {
   "cell_type": "code",
   "execution_count": 11,
   "metadata": {},
   "outputs": [
    {
     "data": {
      "text/latex": [
       "$\\displaystyle \\begin{cases} k \\left(- a + {x}_{1}\\right)^{m} & \\text{for}\\: a < {x}_{a} \\\\0 & \\text{for}\\: a \\geq - {x}_{1} \\wedge a \\geq {x}_{1} \\\\k \\left(- a - {x}_{1}\\right)^{m} & \\text{for}\\: a < - {x}_{1} \\end{cases} + \\begin{cases} k \\left(- a + {x}_{2}\\right)^{m} & \\text{for}\\: a < {x}_{a} \\\\0 & \\text{for}\\: a \\geq - {x}_{2} \\wedge a \\geq {x}_{2} \\\\k \\left(- a - {x}_{2}\\right)^{m} & \\text{for}\\: a < - {x}_{2} \\end{cases} + \\begin{cases} k \\left(- a + {x}_{3}\\right)^{m} & \\text{for}\\: a < {x}_{a} \\\\0 & \\text{for}\\: a \\geq - {x}_{3} \\wedge a \\geq {x}_{3} \\\\k \\left(- a - {x}_{3}\\right)^{m} & \\text{for}\\: a < - {x}_{3} \\end{cases}$"
      ],
      "text/plain": [
       "Piecewise((k*(-a + x[1])**m, a < x[a]), (0, (a >= x[1]) & (a >= -x[1])), (k*(-a - x[1])**m, a < -x[1])) + Piecewise((k*(-a + x[2])**m, a < x[a]), (0, (a >= x[2]) & (a >= -x[2])), (k*(-a - x[2])**m, a < -x[2])) + Piecewise((k*(-a + x[3])**m, a < x[a]), (0, (a >= x[3]) & (a >= -x[3])), (k*(-a - x[3])**m, a < -x[3]))"
      ]
     },
     "execution_count": 11,
     "metadata": {},
     "output_type": "execute_result"
    }
   ],
   "source": [
    "from sympy import *\n",
    "\n",
    "a, k, m = symbols('a k m')\n",
    "\n",
    "x = IndexedBase('x')\n",
    "i = Idx('i')\n",
    "\n",
    "u = Piecewise(\n",
    "(k*(x[i]-a)**m, Gt(x[a],a)),\n",
    "(0, And(Ge(x[i],-a), Le(x[i],a))),\n",
    "    (k*(-x[i]-a)**m, Lt(x[i],-a))\n",
    ")\n",
    "\n",
    "u\n",
    "\n",
    "Sum(u, (i,1,3)).doit()"
   ]
  },
  {
   "cell_type": "code",
   "execution_count": null,
   "metadata": {},
   "outputs": [],
   "source": []
  }
 ],
 "metadata": {
  "kernelspec": {
   "display_name": "Python 3",
   "language": "python",
   "name": "python3"
  },
  "language_info": {
   "codemirror_mode": {
    "name": "ipython",
    "version": 3
   },
   "file_extension": ".py",
   "mimetype": "text/x-python",
   "name": "python",
   "nbconvert_exporter": "python",
   "pygments_lexer": "ipython3",
   "version": "3.8.5"
  }
 },
 "nbformat": 4,
 "nbformat_minor": 4
}
